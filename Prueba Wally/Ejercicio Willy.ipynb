{
 "cells": [
  {
   "cell_type": "code",
   "execution_count": null,
   "id": "9acc22a2-1d94-440d-b46e-dd016a4fcba2",
   "metadata": {},
   "outputs": [],
   "source": [
    "import cv2 as cv\n",
    "import os\n",
    "import numpy as np"
   ]
  },
  {
   "cell_type": "code",
   "execution_count": null,
   "id": "efd31d37-54d9-43d7-bb35-855a887efbb3",
   "metadata": {},
   "outputs": [],
   "source": [
    "def rota(img, i):\n",
    "    for j in range(10, 361, 20):\n",
    "        h, w = img.shape[:2]\n",
    "        mw = cv.getRotationMatrix2D((h // 2, w // 2), j, -1)\n",
    "        img2 = cv.warpAffine(img, mw, (h, w))\n",
    "    cv.imwrite('D:\\\\Escuela Betin\\\\9no Sem\\\\3. Inteligencia Artificial\\\\Willy\\\\j'+str(i)+'.jpg',img2)\n",
    "    "
   ]
  },
  {
   "cell_type": "markdown",
   "id": "9213086a-8336-4f5a-8f01-47930e079879",
   "metadata": {},
   "source": [
    "# NOTA\n",
    "\n",
    "Este código nos facilita la rotación de todas las imágenes que tengamos. El detalle con esta es que las rota pero crea un espacio en negro el cual nos puede causar conflictos al momento de hacer el archivo .xml.\n",
    "\n"
   ]
  },
  {
   "cell_type": "code",
   "execution_count": null,
   "id": "381105e7-ca41-4cba-8c18-fc99f68a88c7",
   "metadata": {},
   "outputs": [],
   "source": [
    "def escalaimagen(img,i)\n",
    "    img2="
   ]
  },
  {
   "cell_type": "code",
   "execution_count": null,
   "id": "073a7541-ec5c-484b-89a0-48be7aa5a038",
   "metadata": {},
   "outputs": [],
   "source": [
    "i=0\n",
    "imgPaths = \"D:\\\\Escuela Betin\\\\9no Sem\\\\3. Inteligencia Artificial\\\\Willy//j\"\n",
    "nomFiles = os.listdir(imgPaths)\n",
    "for nomFiles in nomFiles:\n",
    "    i=i+1\n",
    "    imgPath=imgPaths+\"/\"+nomFiles\n",
    "    img=cv.imread(imgPath)\n",
    "    rota(img,i)"
   ]
  },
  {
   "cell_type": "markdown",
   "id": "b79aa010-92cd-419b-8f01-e13922631354",
   "metadata": {},
   "source": [
    "# Recorte de imagen\n",
    "\n",
    "Esta parte de codigo, nos genera lo siguiente:\n",
    "1. Nos recorta imagenes de cierto tamaño y las guarda donde le damos el acceso\n",
    "2. Toma como base una imagen principal\n",
    "3. Toma en cuenta las dimensiones para recortar la imagen en imagenes de tamaño que le dimos\n",
    "4. Las guarda en la carpeta que le damos\n"
   ]
  },
  {
   "cell_type": "code",
   "execution_count": null,
   "id": "326da696-c932-44d0-a36f-d28069022a08",
   "metadata": {},
   "outputs": [],
   "source": [
    "import cv2\n",
    "import numpy as np\n",
    "import os\n",
    "\n",
    "def recortar_imagenes(img_path, output_dir, num_imagenes):\n",
    "    # Leer la imagen\n",
    "    img = cv2.imread(img_path)\n",
    "\n",
    "    # Obtener las dimensiones de la imagen\n",
    "    height, width, _ = img.shape\n",
    "\n",
    "    # Definir el tamaño del recorte\n",
    "    size = 50\n",
    "\n",
    "    # Contador para las imágenes recortadas\n",
    "    count = 1\n",
    "\n",
    "    # Recorrer la imagen y recortar por bloques de 50x50 hasta alcanzar el número deseado de imágenes\n",
    "    for y in range(0, height, size):\n",
    "        for x in range(0, width, size):\n",
    "            # Recortar la región de interés\n",
    "            roi = img[y:y+size, x:x+size]\n",
    "\n",
    "            # Verificar que la región tenga el tamaño correcto\n",
    "            if roi.shape == (size, size, 3) and count <= num_imagenes:  # Usar <= para incluir el número de imágenes deseado\n",
    "                # Guardar la región como una nueva imagen\n",
    "                cv2.imwrite(os.path.join(output_dir, f'{count}.png'), roi)\n",
    "                count += 1\n",
    "\n",
    "            # Salir del bucle cuando se alcance el número deseado de imágenes\n",
    "            if count > num_imagenes:  # Usar > en lugar de >= para detenerse en la imagen 400\n",
    "                break\n",
    "\n",
    "        if count > num_imagenes:\n",
    "            break\n",
    "\n",
    "# Ruta de la imagen de Wally\n",
    "imagen_input = r'D:\\Escuela Betin\\9no Sem\\3. Inteligencia Artificial\\Willy\\negativo\\wally.png'\n",
    "\n",
    "# Ruta donde se guardaran las imagenes recortadas de la original\n",
    "output_directory = r'D:\\Escuela Betin\\9no Sem\\3. Inteligencia Artificial\\Willy\\negativo'\n",
    "\n",
    "# Número de imágenes a recortar (esto puede variar dependiendo de la dimension que le dimos desde un principio, \n",
    "# pueden ser menos si queremos mas, debemos de cambiar las dimensiones d ela imagenes que se van a recortar\n",
    "num_imagenes = 400\n",
    "\n",
    "recortar_imagenes(imagen_input, output_directory, num_imagenes)"
   ]
  },
  {
   "cell_type": "markdown",
   "id": "ec729cad-4900-4fea-adae-bc00b8d53486",
   "metadata": {},
   "source": [
    "# Redimencion de imagenes\n",
    "\n",
    "Este código realiza la redimensión de imágenes, guardando las imágenes donde le indicamos. La función `redimensionar_imagenes` recorre los archivos en el directorio de entrada, lee cada imagen, la redimensiona al tamaño especificado y luego guarda la imagen redimensionada en el directorio de salida. Es útil para preparar conjuntos de datos de imágenes con tamaños uniformes.\r\n"
   ]
  },
  {
   "cell_type": "code",
   "execution_count": null,
   "id": "53304174-82ab-4037-9ddb-b4fcc4e128c8",
   "metadata": {},
   "outputs": [],
   "source": [
    "import cv2\n",
    "import os\n",
    "\n",
    "def redimensionar_imagenes(input_dir, output_dir, size=(50, 50)):\n",
    "    # Obtener la lista de archivos en el directorio de entrada\n",
    "    archivos = os.listdir(input_dir)\n",
    "\n",
    "    # Crear el directorio de salida si no existe\n",
    "    if not os.path.exists(output_dir):\n",
    "        os.makedirs(output_dir)\n",
    "\n",
    "    # Recorrer todos los archivos en el directorio de entrada\n",
    "    for archivo in archivos:\n",
    "        # Obtener la ruta completa de la imagen de entrada\n",
    "        input_path = os.path.join(input_dir, archivo)\n",
    "\n",
    "        # Leer la imagen\n",
    "        img = cv2.imread(input_path)\n",
    "\n",
    "        # Redimensionar la imagen\n",
    "        img_resized = cv2.resize(img, size)\n",
    "\n",
    "        # Obtener la ruta completa de la imagen de salida\n",
    "        output_path = os.path.join(output_dir, archivo)\n",
    "\n",
    "        # Guardar la imagen redimensionada en el directorio de salida\n",
    "        cv2.imwrite(output_path, img_resized)\n",
    "\n",
    "input_directory = r'D:\\Escuela Betin\\9no Sem\\3. Inteligencia Artificial\\Willy\\Pos'\n",
    "\n",
    "output_directory = r'D:\\Escuela Betin\\9no Sem\\3. Inteligencia Artificial\\Willy\\Pos_redimensionadas'\n",
    "\n",
    "tamaño_redimensionado = (50, 50)\n",
    "\n",
    "redimensionar_imagenes(input_directory, output_directory, tamaño_redimensionado)"
   ]
  },
  {
   "cell_type": "markdown",
   "id": "966bb2fb-d45d-45ae-b7e3-efb38a719afe",
   "metadata": {},
   "source": [
    "# Cambio de Color\n",
    "\n",
    "Esta parte de codigo toma en cuenta las imagenes que se le dan y este mismo los cambia de color y al mismo tiempo los guarda en el color original, hay que mencionar que no solo se puede con estos colores, tambien se puede cambiar si asi lo deseamos.\r\n"
   ]
  },
  {
   "cell_type": "code",
   "execution_count": null,
   "id": "e5343d4b-68dc-45b7-8d04-451d0955f6cc",
   "metadata": {},
   "outputs": [],
   "source": [
    "import cv2\n",
    "import numpy as np\n",
    "import os\n",
    "import random\n",
    "\n",
    "def generar_imagenes(input_dir, output_dir, num_imagenes_bn, num_imagenes_color):\n",
    "    # Obtener la lista de archivos en el directorio de entrada\n",
    "    archivos = os.listdir(input_dir)\n",
    "\n",
    "    # Crear el directorio de salida si no existe\n",
    "    if not os.path.exists(output_dir):\n",
    "        os.makedirs(output_dir)\n",
    "\n",
    "    # Contadores para las imágenes generadas\n",
    "    count_bn = 0\n",
    "    count_color = 0\n",
    "\n",
    "    # Mientras no se hayan generado las 300 imágenes\n",
    "    while count_bn < num_imagenes_bn or count_color < num_imagenes_color:\n",
    "        # Seleccionar un archivo aleatorio de la lista\n",
    "        archivo = random.choice(archivos)\n",
    "        input_path = os.path.join(input_dir, archivo)\n",
    "\n",
    "        # Leer la imagen original\n",
    "        img_original = cv2.imread(input_path)\n",
    "\n",
    "        # Generar la imagen en blanco y negro\n",
    "        img_blanco_negro = cv2.cvtColor(img_original, cv2.COLOR_BGR2GRAY)\n",
    "        img_blanco_negro = cv2.cvtColor(img_blanco_negro, cv2.COLOR_GRAY2BGR)  # Convertir a escala de grises y luego a BGR\n",
    "\n",
    "        # Guardar la imagen en blanco y negro si aún no se han generado todas\n",
    "        if count_bn < num_imagenes_bn:\n",
    "            output_path_bn = os.path.join(output_dir, f'bn_{count_bn}.png')\n",
    "            cv2.imwrite(output_path_bn, img_blanco_negro)\n",
    "            count_bn += 1\n",
    "\n",
    "        # Guardar la imagen en color normal si aún no se han generado todas\n",
    "        if count_color < num_imagenes_color:\n",
    "            output_path_color = os.path.join(output_dir, f'c{count_color}.png')\n",
    "            cv2.imwrite(output_path_color, img_original)\n",
    "            count_color += 1\n",
    "\n",
    "input_directory = r'D:\\Escuela Betin\\9no Sem\\3. Inteligencia Artificial\\Willy\\Pos_redimensionadas'\n",
    "\n",
    "output_directory = r'D:\\Escuela Betin\\9no Sem\\3. Inteligencia Artificial\\Willy\\Pos_bn_color'\n",
    "\n",
    "# Número de imágenes en blanco y negro a generar\n",
    "num_imagenes_bn = 150\n",
    "\n",
    "# Número de imágenes en color normal a generar\n",
    "num_imagenes_color = 150\n",
    "\n",
    "generar_imagenes(input_directory, output_directory, num_imagenes_bn, num_imagenes_color)\n"
   ]
  },
  {
   "cell_type": "code",
   "execution_count": null,
   "id": "3444a654-b08c-4147-9859-31454b39fe75",
   "metadata": {},
   "outputs": [],
   "source": []
  },
  {
   "cell_type": "code",
   "execution_count": 3,
   "id": "25ae1715-49c5-4ad6-a25b-794ab890481d",
   "metadata": {},
   "outputs": [],
   "source": [
    "import numpy as np\n",
    "import cv2 as cv\n",
    "import math \n",
    "\n",
    "rostro = cv.CascadeClassifier('D:\\\\Escuela Betin\\\\9no Sem\\\\3. Inteligencia Artificial\\\\Material de clase\\\\haarcascade_frontalface_alt.xml')"
   ]
  },
  {
   "cell_type": "code",
   "execution_count": 4,
   "id": "bcc72a69-5d41-47fb-a04b-daef5789832a",
   "metadata": {},
   "outputs": [
    {
     "name": "stdout",
     "output_type": "stream",
     "text": [
      "['No es Wally', 'Wally']\n",
      "300\n"
     ]
    }
   ],
   "source": [
    "import cv2 as cv \n",
    "import numpy as np \n",
    "import os\n",
    "import math\n",
    "\n",
    "dataSet = 'D:\\\\Escuela Betin\\\\9no Sem\\\\3. Inteligencia Artificial\\\\Willy'\n",
    "faces  = os.listdir(dataSet)\n",
    "print(faces)\n",
    "\n",
    "labels = []\n",
    "facesData = []\n",
    "label = 0 \n",
    "for face in faces:\n",
    "    facePath = dataSet+'\\\\'+face\n",
    "    for faceName in os.listdir(facePath):\n",
    "        labels.append(label)\n",
    "        facesData.append(cv.imread(facePath+'\\\\'+faceName,0))\n",
    "    label = label + 1\n",
    "print(np.count_nonzero(np.array(labels)==0)) \n",
    "faceRecognizer = cv.face.EigenFaceRecognizer_create()\n",
    "faceRecognizer.train(facesData, np.array(labels))\n",
    "faceRecognizer.write('D:\\\\Escuela Betin\\\\9no Sem\\\\3. Inteligencia Artificial\\\\Willy\\\\Eigenface.xml')\n"
   ]
  },
  {
   "cell_type": "code",
   "execution_count": null,
   "id": "b0a9a3a6-ab85-4b6e-85d7-2150351b542b",
   "metadata": {},
   "outputs": [],
   "source": []
  }
 ],
 "metadata": {
  "kernelspec": {
   "display_name": "Python 3 (ipykernel)",
   "language": "python",
   "name": "python3"
  },
  "language_info": {
   "codemirror_mode": {
    "name": "ipython",
    "version": 3
   },
   "file_extension": ".py",
   "mimetype": "text/x-python",
   "name": "python",
   "nbconvert_exporter": "python",
   "pygments_lexer": "ipython3",
   "version": "3.12.2"
  }
 },
 "nbformat": 4,
 "nbformat_minor": 5
}
