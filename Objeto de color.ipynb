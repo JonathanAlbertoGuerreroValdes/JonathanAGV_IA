{
 "cells": [
  {
   "cell_type": "code",
   "execution_count": null,
   "id": "b2f5ce51-3a7c-449f-9ac1-f21e375d30f0",
   "metadata": {},
   "outputs": [],
   "source": [
    "import cv2 as cv\n",
    "\n",
    "cap = cv.VideoCapture(0)\n",
    "while(True):\n",
    "    res , img = cap.read()\n",
    "    img2=cv.cvtColor(img, cv.COLOR_BGR2HSV)\n",
    "    vb=(120, 60,60)\n",
    "    va=(170, 255,255)\n",
    "    mask=cv.inRange(img2, vb,va)\n",
    "    res=cv.bitwise_and(img, img, mask=mask)\n",
    "    cv.imshow('captura', res)\n",
    "    if cv.waitKey(1) &0xFF == ord('s'):\n",
    "        break\n",
    "       \n",
    "cap.release()\n",
    "cv.destroyAllWindows()"
   ]
  },
  {
   "cell_type": "code",
   "execution_count": 29,
   "id": "5bff17d2-e609-4f5d-92d4-ddf261ce0ce2",
   "metadata": {},
   "outputs": [],
   "source": [
    "import cv2 as cv\n",
    "\n",
    "cap = cv.VideoCapture(0)\n",
    "while(True):\n",
    "    res , img = cap.read()\n",
    "    if res == True:\n",
    "        img2=cv.cvtColor(img, cv.COLOR_BGR2HSV)\n",
    "        vb=(90, 100,90)\n",
    "        va=(130, 250,255)\n",
    "        mask=cv.inRange(img2, vb,va)\n",
    "        res=cv.bitwise_and(img, img, mask=mask)\n",
    "        #cv.imshow('captura', img)\n",
    "        cv.imshow('res', res)\n",
    "        cv.imshow('mascara', mask)\n",
    "        k=cv.waitKey(20) & 0xFF\n",
    "        if k==27:\n",
    "            break\n",
    "cap.release()\n",
    "cv.destroyAllWindows()"
   ]
  },
  {
   "cell_type": "code",
   "execution_count": null,
   "id": "f9443774-d9fb-4414-9970-d6f16d52c88e",
   "metadata": {},
   "outputs": [],
   "source": []
  }
 ],
 "metadata": {
  "kernelspec": {
   "display_name": "Python 3 (ipykernel)",
   "language": "python",
   "name": "python3"
  },
  "language_info": {
   "codemirror_mode": {
    "name": "ipython",
    "version": 3
   },
   "file_extension": ".py",
   "mimetype": "text/x-python",
   "name": "python",
   "nbconvert_exporter": "python",
   "pygments_lexer": "ipython3",
   "version": "3.12.2"
  }
 },
 "nbformat": 4,
 "nbformat_minor": 5
}
