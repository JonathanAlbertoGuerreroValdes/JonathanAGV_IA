{
 "cells": [
  {
   "cell_type": "code",
   "execution_count": 1,
   "id": "d607e929-fee5-4897-af8d-ec0e82d22548",
   "metadata": {},
   "outputs": [],
   "source": [
    "import cv2 as cv"
   ]
  },
  {
   "cell_type": "code",
   "execution_count": 2,
   "id": "b67548f2-652f-4fff-b99a-b88d5ac84711",
   "metadata": {},
   "outputs": [],
   "source": [
    "img = cv.imread('D:\\\\Escuela Betin\\\\9no Sem\\\\3. Inteligencia Artificial\\\\Material de clase\\\\f1.jpg')\n",
    "cv.imshow('Ejemplo',img)\n",
    "cv.waitKey(0)\n",
    "cv.destroyAllWindows()"
   ]
  },
  {
   "cell_type": "code",
   "execution_count": null,
   "id": "4f97fb4d-32ce-43aa-9250-c5227b946a63",
   "metadata": {},
   "outputs": [],
   "source": []
  },
  {
   "cell_type": "code",
   "execution_count": null,
   "id": "b33788d8-2e3b-4aaf-b255-9cb29f5df8d2",
   "metadata": {},
   "outputs": [],
   "source": []
  }
 ],
 "metadata": {
  "kernelspec": {
   "display_name": "Python 3 (ipykernel)",
   "language": "python",
   "name": "python3"
  },
  "language_info": {
   "codemirror_mode": {
    "name": "ipython",
    "version": 3
   },
   "file_extension": ".py",
   "mimetype": "text/x-python",
   "name": "python",
   "nbconvert_exporter": "python",
   "pygments_lexer": "ipython3",
   "version": "3.12.2"
  }
 },
 "nbformat": 4,
 "nbformat_minor": 5
}
