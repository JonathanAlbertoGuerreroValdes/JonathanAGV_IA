{
 "cells": [
  {
   "cell_type": "code",
   "execution_count": null,
   "id": "a07e60fd-9e3e-4cd4-be67-37d7bd3cb312",
   "metadata": {},
   "outputs": [],
   "source": [
    "import numpy as np\n",
    "import cv2 as cv\n",
    "import math \n",
    "\n",
    "rostro = cv.CascadeClassifier('D:\\\\Escuela Betin\\\\9no Sem\\\\3. Inteligencia Artificial\\\\Material de clase\\\\haarcascade_frontalface_alt.xml')"
   ]
  },
  {
   "cell_type": "markdown",
   "id": "b09ec5e5-8b16-4697-9683-631b320d52db",
   "metadata": {},
   "source": [
    "# Nota\n",
    "\n",
    "Aquí se importan las librerias que ocupamos para cv, pero de igual forma leemos el archivo de _haarcascade_frontalface_alt.xml_, esto para que nos ayude a la deteccion del rostro (archivo proporcionado pro el maestro)\n"
   ]
  },
  {
   "cell_type": "code",
   "execution_count": null,
   "id": "a25f9ed9-74ec-491c-a302-9a8ea19940ad",
   "metadata": {},
   "outputs": [],
   "source": [
    "cap = cv.VideoCapture(0)\n",
    "i = 0\n",
    "while True:\n",
    "    ret, frame = cap.read()\n",
    "    gray = cv.cvtColor(frame, cv.COLOR_BGR2GRAY)\n",
    "    rostros = rostro.detectMultiScale(gray, 1.3, 5)\n",
    "    for(x, y, w, h) in rostros:\n",
    "        #frame = cv.rectangle(frame, (x,y), (x+w, y+h), (0, 255, 0), 2)\n",
    "        frame2 = frame[y:y+h, x:x+w]\n",
    "        frame2 = cv.resize(frame2, (100, 100), interpolation = cv.INTER_AREA)\n",
    "        cv.imshow('rostros encontrados', frame2)\n",
    "        cv.imwrite('D:\\\\Escuela Betin\\\\9no Sem\\\\3. Inteligencia Artificial\\\\rostros_img\\\\jonhy\\\\'+str(i)+'.png',frame2)\n",
    "    #cv.imshow('rostros', frame) \n",
    "    i=i+1\n",
    "    k =cv.waitKey(1)\n",
    "    if k == 27 :\n",
    "        break\n",
    "cap.release()\n",
    "cv.destroyAllWindows()"
   ]
  },
  {
   "cell_type": "markdown",
   "id": "69940d46-e76a-48dd-a66a-0f3fb7e7d25f",
   "metadata": {},
   "source": [
    "# Nota\n",
    "\n",
    "Aquí se abre la camara de nuestro dispositivo esto para empezar a capturar nuestro rostro y tomar nuestro dataset, con una dimención especifica, en la carpeta que le estamos dando dado en el codigo:\n",
    "\n",
    "```\n",
    "cv.imwrite('D:\\\\Escuela Betin\\\\9no Sem\\\\3. Inteligencia Artificial\\\\rostros_img\\\\jonhy\\\\'+str(i)+'.png',frame2)\n",
    "```\n",
    "\n",
    "Y nostros detenemos dicha accion dando Esc\n"
   ]
  },
  {
   "cell_type": "code",
   "execution_count": null,
   "id": "bdbe05b3-56be-45d5-a675-e1c6edb4c13b",
   "metadata": {},
   "outputs": [],
   "source": [
    "import cv2 as cv \n",
    "import numpy as np \n",
    "import os\n",
    "import math\n",
    "\n",
    "dataSet = 'D:\\\\Escuela Betin\\\\9no Sem\\\\3. Inteligencia Artificial\\\\rostros_img'\n",
    "faces  = os.listdir(dataSet)\n",
    "print(faces)\n",
    "\n",
    "labels = []\n",
    "facesData = []\n",
    "label = 0 \n",
    "for face in faces:\n",
    "    facePath = dataSet+'\\\\'+face\n",
    "    for faceName in os.listdir(facePath):\n",
    "        labels.append(label)\n",
    "        facesData.append(cv.imread(facePath+'\\\\'+faceName,0))\n",
    "    label = label + 1\n",
    "print(np.count_nonzero(np.array(labels)==0)) \n",
    "faceRecognizer = cv.face.EigenFaceRecognizer_create()\n",
    "faceRecognizer.train(facesData, np.array(labels))\n",
    "faceRecognizer.write('D:\\\\Escuela Betin\\\\9no Sem\\\\3. Inteligencia Artificial\\\\rostros_img\\\\XML Eigen\\\\Eigenface.xml')\n"
   ]
  },
  {
   "cell_type": "markdown",
   "id": "04898f9a-67cd-4c11-b089-3c1920e7aecc",
   "metadata": {},
   "source": [
    "# Nota\n",
    "En este caso, tomando en cuenta todos nuestros rostros o dataset, que ya generamos y guardamos. Creamos nuestro archivo .xml, con el nombre que nostros le queramos generar, en este caso en esta llinea de codigo:\n",
    "\n",
    "```\n",
    "faceRecognizer.write('D:\\\\Escuela Betin\\\\9no Sem\\\\3. Inteligencia Artificial\\\\rostros_img\\\\Eigenface.xml')\n",
    "\n",
    "```"
   ]
  },
  {
   "cell_type": "code",
   "execution_count": 1,
   "id": "be82d26f-89cb-452d-9c91-5e82ae6a5f29",
   "metadata": {},
   "outputs": [],
   "source": [
    "import cv2 as cv\n",
    "import os \n",
    "\n",
    "faceRecognizer = cv.face.EigenFaceRecognizer_create()\n",
    "faceRecognizer.read('D:\\\\Escuela Betin\\\\9no Sem\\\\3. Inteligencia Artificial\\\\rostros_img\\\\XML Eigen\\\\Eigenface.xml')\n",
    "dataSet = 'D:\\\\Escuela Betin\\\\9no Sem\\\\3. Inteligencia Artificial\\\\rostros_img'\n",
    "faces  = os.listdir(dataSet)\n",
    "cap = cv.VideoCapture(0)\n",
    "rostro = cv.CascadeClassifier('D:\\\\Escuela Betin\\\\9no Sem\\\\3. Inteligencia Artificial\\\\Material de clase\\\\haarcascade_frontalface_alt.xml')\n",
    "while True:\n",
    "    ret, frame = cap.read()\n",
    "    if ret == False: break\n",
    "    gray = cv.cvtColor(frame, cv.COLOR_BGR2GRAY)\n",
    "    cpGray = gray.copy()\n",
    "    rostros = rostro.detectMultiScale(gray, 1.3, 3)\n",
    "    for(x, y, w, h) in rostros:\n",
    "        frame2 = cpGray[y:y+h, x:x+w]\n",
    "        frame2 = cv.resize(frame2,  (100,100), interpolation=cv.INTER_CUBIC)\n",
    "        result = faceRecognizer.predict(frame2)\n",
    "        #cv.putText(frame, '{}'.format(result), (x,y-20), 1,3.3, (0,0,0), 1, cv.LINE_AA)\n",
    "        if result[1] > 2800:\n",
    "            cv.putText(frame,'{}'.format(faces[result[0]]),(x,y-25),2,1.1,(0,255,0),1,cv.LINE_AA)\n",
    "            cv.rectangle(frame, (x,y),(x+w,y+h),(0,255,0),2)\n",
    "        else:\n",
    "            cv.putText(frame,'Desconocido',(x,y-20),2,0.8,(0,0,255),1,cv.LINE_AA)\n",
    "            cv.rectangle(frame, (x,y),(x+w,y+h),(0,0,255),2)\n",
    "    cv.imshow('frame', frame)\n",
    "    k = cv.waitKey(1)\n",
    "    if k == 27:\n",
    "        break\n",
    "cap.release()\n",
    "cv.destroyAllWindows()"
   ]
  },
  {
   "cell_type": "markdown",
   "id": "b7e5d7d1-868c-49eb-a4fa-71187af9f4fc",
   "metadata": {},
   "source": [
    "# Nota\n",
    "\n",
    "Aquí mandamos a llamar el el archivo .xml, teniendo en cuenta esto carga el documento y empezamos a ver como funciona el detector de rostros"
   ]
  },
  {
   "cell_type": "code",
   "execution_count": null,
   "id": "c68878ca-66c9-41fe-860a-6a61da704695",
   "metadata": {},
   "outputs": [],
   "source": [
    "import cv2\n",
    "print(cv2.__version__)"
   ]
  },
  {
   "cell_type": "markdown",
   "id": "31270d17-b0b9-4006-ac90-f2042c675f81",
   "metadata": {},
   "source": [
    "# Fisher"
   ]
  },
  {
   "cell_type": "code",
   "execution_count": 2,
   "id": "3de1109e-3baa-42db-8f87-234f4c5b6bbe",
   "metadata": {},
   "outputs": [
    {
     "name": "stdout",
     "output_type": "stream",
     "text": [
      "['angel', 'jonhy', 'jorge', 'leo', 'moi', 'pancho', 'sophi', 'XML Fisher', 'XML LBPH']\n"
     ]
    }
   ],
   "source": [
    "import cv2 as cv \n",
    "import numpy as np \n",
    "import os\n",
    "\n",
    "dataSet = 'D:\\\\Escuela Betin\\\\9no Sem\\\\3. Inteligencia Artificial\\\\rostros_img'\n",
    "faces  = os.listdir(dataSet)\n",
    "print(faces)\n",
    "\n",
    "labels = []\n",
    "facesData = []\n",
    "label = 0 \n",
    "for face in faces:\n",
    "    facePath = dataSet+'\\\\'+face\n",
    "    for faceName in os.listdir(facePath):\n",
    "        labels.append(label)\n",
    "        facesData.append(cv.imread(facePath+'\\\\'+faceName,0))\n",
    "    label = label + 1\n",
    "faceRecognizer = cv.face.FisherFaceRecognizer_create()\n",
    "faceRecognizer.train(facesData, np.array(labels))\n",
    "faceRecognizer.write('D:\\\\Escuela Betin\\\\9no Sem\\\\3. Inteligencia Artificial\\\\rostros_img\\\\XML Fisher\\\\Fisherface.xml')\n"
   ]
  },
  {
   "cell_type": "markdown",
   "id": "dc342021-9429-4c8f-acff-8363980023be",
   "metadata": {},
   "source": [
    "Al igual que en EigenFace, creamos el archivo .xml con Fisher esta vez.\n"
   ]
  },
  {
   "cell_type": "code",
   "execution_count": 3,
   "id": "58211530-4719-4db0-a24d-4d2fdfa3bc2b",
   "metadata": {},
   "outputs": [],
   "source": [
    "import cv2 as cv\n",
    "import os \n",
    "\n",
    "faceRecognizer = cv.face.FisherFaceRecognizer_create()\n",
    "faceRecognizer.read('D:\\\\Escuela Betin\\\\9no Sem\\\\3. Inteligencia Artificial\\\\rostros_img\\\\XML Fisher\\\\Fisherface.xml')\n",
    "dataSet = 'D:\\\\Escuela Betin\\\\9no Sem\\\\3. Inteligencia Artificial\\\\rostros_img'\n",
    "faces  = os.listdir(dataSet)\n",
    "cap = cv.VideoCapture(0)\n",
    "rostro = cv.CascadeClassifier('D:\\\\Escuela Betin\\\\9no Sem\\\\3. Inteligencia Artificial\\\\Material de clase\\\\haarcascade_frontalface_alt.xml')\n",
    "while True:\n",
    "    ret, frame = cap.read()\n",
    "    if ret == False: break\n",
    "    gray = cv.cvtColor(frame, cv.COLOR_BGR2GRAY)\n",
    "    cpGray = gray.copy()\n",
    "    rostros = rostro.detectMultiScale(gray, 1.3, 3)\n",
    "    for(x, y, w, h) in rostros:\n",
    "        frame2 = cpGray[y:y+h, x:x+w]\n",
    "        frame2 = cv.resize(frame2,  (100,100), interpolation=cv.INTER_CUBIC)\n",
    "        result = faceRecognizer.predict(frame2)\n",
    "        cv.putText(frame, '{}'.format(result), (x,y-20), 1,3.3, (255,255,0), 1, cv.LINE_AA)\n",
    "        if result[1] < 500:\n",
    "            cv.putText(frame,'{}'.format(faces[result[0]]),(x,y-25),2,1.1,(0,255,0),1,cv.LINE_AA)\n",
    "            cv.rectangle(frame, (x,y),(x+w,y+h),(0,255,0),2)\n",
    "        else:\n",
    "            cv.putText(frame,'Desconocido',(x,y-20),2,0.8,(0,0,255),1,cv.LINE_AA)\n",
    "            cv.rectangle(frame, (x,y),(x+w,y+h),(0,0,255),2)\n",
    "    cv.imshow('frame', frame)\n",
    "    k = cv.waitKey(1)\n",
    "    if k == 27:\n",
    "        break\n",
    "cap.release()\n",
    "cv.destroyAllWindows()"
   ]
  },
  {
   "cell_type": "markdown",
   "id": "f2454950-0bc5-43fc-9860-c5f7237c1545",
   "metadata": {},
   "source": [
    "# LBPH"
   ]
  },
  {
   "cell_type": "code",
   "execution_count": 4,
   "id": "a4c68a81-e6b8-4951-996a-20902dd30bfe",
   "metadata": {},
   "outputs": [
    {
     "name": "stdout",
     "output_type": "stream",
     "text": [
      "['angel', 'jonhy', 'jorge', 'leo', 'moi', 'pancho', 'sophi', 'XML LBPH']\n"
     ]
    }
   ],
   "source": [
    "import cv2 as cv \n",
    "import numpy as np \n",
    "import os\n",
    "\n",
    "dataSet = 'D:\\\\Escuela Betin\\\\9no Sem\\\\3. Inteligencia Artificial\\\\rostros_img'\n",
    "faces  = os.listdir(dataSet)\n",
    "print(faces)\n",
    "\n",
    "labels = []\n",
    "facesData = []\n",
    "label = 0 \n",
    "for face in faces:\n",
    "    facePath = dataSet+'\\\\'+face\n",
    "    for faceName in os.listdir(facePath):\n",
    "        labels.append(label)\n",
    "        facesData.append(cv.imread(facePath+'\\\\'+faceName,0))\n",
    "    label = label + 1\n",
    "#print(np.count_nonzero(np.array(labels)==0)) \n",
    "faceRecognizer = cv.face.LBPHFaceRecognizer_create()\n",
    "faceRecognizer.train(facesData, np.array(labels))\n",
    "faceRecognizer.write('D:\\\\Escuela Betin\\\\9no Sem\\\\3. Inteligencia Artificial\\\\rostros_img\\\\XML LBPH\\\\LBPHface.xml')\n"
   ]
  },
  {
   "cell_type": "code",
   "execution_count": 5,
   "id": "a994df1c-4736-4df8-8a70-4300a386ef98",
   "metadata": {},
   "outputs": [],
   "source": [
    "import cv2 as cv\n",
    "import os \n",
    "\n",
    "faceRecognizer = cv.face.LBPHFaceRecognizer_create()\n",
    "faceRecognizer.read('D:\\\\Escuela Betin\\\\9no Sem\\\\3. Inteligencia Artificial\\\\rostros_img\\\\XML LBPH\\\\LBPHface.xml')\n",
    "dataSet = 'D:\\\\Escuela Betin\\\\9no Sem\\\\3. Inteligencia Artificial\\\\rostros_img'\n",
    "faces  = os.listdir(dataSet)\n",
    "cap = cv.VideoCapture(0)\n",
    "rostro = cv.CascadeClassifier('D:\\\\Escuela Betin\\\\9no Sem\\\\3. Inteligencia Artificial\\\\Material de clase\\\\haarcascade_frontalface_alt.xml')\n",
    "while True:\n",
    "    ret, frame = cap.read()\n",
    "    if ret == False: break\n",
    "    gray = cv.cvtColor(frame, cv.COLOR_BGR2GRAY)\n",
    "    cpGray = gray.copy()\n",
    "    rostros = rostro.detectMultiScale(gray, 1.3, 3)\n",
    "    for(x, y, w, h) in rostros:\n",
    "        frame2 = cpGray[y:y+h, x:x+w]\n",
    "        frame2 = cv.resize(frame2,  (100,100), interpolation=cv.INTER_CUBIC)\n",
    "        result = faceRecognizer.predict(frame2)\n",
    "        cv.putText(frame, '{}'.format(result), (x,y-20), 1,3.3, (255,255,0), 1, cv.LINE_AA)\n",
    "        if result[1] < 100:\n",
    "            cv.putText(frame,'{}'.format(faces[result[0]]),(x,y-25),2,1.1,(0,255,0),1,cv.LINE_AA)\n",
    "            cv.rectangle(frame, (x,y),(x+w,y+h),(0,255,0),2)\n",
    "        else:\n",
    "            cv.putText(frame,'Desconocido',(x,y-20),2,0.8,(0,0,255),1,cv.LINE_AA)\n",
    "            cv.rectangle(frame, (x,y),(x+w,y+h),(0,0,255),2) \n",
    "    cv.imshow('frame', frame)\n",
    "    k = cv.waitKey(1)\n",
    "    if k == 27:\n",
    "        break\n",
    "cap.release()\n",
    "cv.destroyAllWindows()"
   ]
  },
  {
   "cell_type": "markdown",
   "id": "4438d729",
   "metadata": {},
   "source": [
    "1. **EigenFace (Caras Propias)**:\n",
    "   - Utiliza el método de análisis de componentes principales (PCA) para reconocer rostros.\n",
    "   - Busca las \"caras propias\" que son las principales componentes de variación entre diferentes imágenes de rostros en un conjunto de datos de entrenamiento.\n",
    "   - Estas caras propias se utilizan para proyectar nuevas imágenes de rostros en un espacio dimensional reducido.\n",
    "   - Las distancias entre estas proyecciones se utilizan para identificar y reconocer rostros.\n",
    "\n",
    "2. **LBPHFace (Local Binary Pattern Histogram Face)**:\n",
    "   - Utiliza el patrón binario local (LBP) para describir las características faciales locales.\n",
    "   - Divide la imagen de la cara en regiones más pequeñas y calcula un histograma de los patrones binarios locales dentro de cada región.\n",
    "   - Luego, utiliza estos histogramas para representar la imagen facial.\n",
    "   - El reconocimiento se realiza comparando los histogramas de patrones binarios locales de las imágenes de prueba con los de las imágenes de entrenamiento.\n",
    "\n",
    "3. **FisherFace**:\n",
    "   - También conocido como Linear Discriminant Analysis (LDA) aplicado a caras.\n",
    "   - No solo busca maximizar la varianza entre las diferentes clases de caras (personas), sino que también busca minimizar la varianza dentro de cada clase.\n",
    "   - Encuentra las direcciones de proyección que maximizan la separabilidad entre diferentes personas mientras minimizan la variabilidad dentro de cada persona.\n",
    "   - Puede producir mejores resultados que EigenFace en conjuntos de datos donde la variabilidad dentro de cada persona es alta."
   ]
  },
  {
   "cell_type": "code",
   "execution_count": null,
   "id": "9be29dce-7e29-49ac-ae67-10db12079098",
   "metadata": {},
   "outputs": [],
   "source": []
  }
 ],
 "metadata": {
  "kernelspec": {
   "display_name": "Python 3 (ipykernel)",
   "language": "python",
   "name": "python3"
  },
  "language_info": {
   "codemirror_mode": {
    "name": "ipython",
    "version": 3
   },
   "file_extension": ".py",
   "mimetype": "text/x-python",
   "name": "python",
   "nbconvert_exporter": "python",
   "pygments_lexer": "ipython3",
   "version": "3.12.2"
  }
 },
 "nbformat": 4,
 "nbformat_minor": 5
}
